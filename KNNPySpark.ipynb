{
 "cells": [
  {
   "cell_type": "code",
   "execution_count": 1,
   "metadata": {
    "collapsed": true
   },
   "outputs": [],
   "source": [
    "import pandas as pd\n",
    "from sklearn.preprocessing import LabelEncoder\n",
    "import category_encoders as ce\n",
    "from pyspark.sql.functions import col\n",
    "from pyspark.sql import SQLContext\n",
    "import math"
   ]
  },
  {
   "cell_type": "code",
   "execution_count": 2,
   "metadata": {
    "collapsed": true
   },
   "outputs": [],
   "source": [
    "def process_data(dataset):\n",
    "    projects = dataset[(dataset['state'] == 'failed') | (dataset['state'] == 'successful')]\n",
    "    \n",
    "    # deleting unnecesary rows\n",
    "    projects.drop('ID',axis=1,inplace=True)\n",
    "    projects.drop('name',axis=1,inplace=True)\n",
    "    projects.drop('category',axis=1,inplace=True)\n",
    "    projects.drop('currency',axis=1,inplace=True)\n",
    "    projects.drop('goal',axis=1,inplace=True)\n",
    "    projects.drop('pledged',axis=1,inplace=True)\n",
    "    projects.drop('usd pledged',axis=1,inplace=True)\n",
    "    # finding length of the project \n",
    "    projects['launched'] = pd.to_datetime(projects['launched']).dt.to_period(\"M\")\n",
    "    projects['deadline'] = pd.to_datetime(projects['deadline']).dt.to_period(\"M\")\n",
    "    #Creating a new columns with Campaign total months\n",
    "    projects['total_months'] = projects['deadline']- projects['launched']\n",
    "    projects['total_months'] = projects['total_months'].astype(int)\n",
    "    projects.drop('launched',axis=1,inplace=True)\n",
    "    projects.drop('deadline',axis=1,inplace=True)\n",
    "    state = projects.pop('state')\n",
    "    projects['state']=state\n",
    "    projects['state']= LabelEncoder().fit_transform(projects['state'])\n",
    "    #onehotencoder = ce.OneHotEncoder(cols = ['main_category','country'])\n",
    "    #projects = onehotencoder.fit_transform(projects)\n",
    "    projects.drop('main_category',axis=1,inplace=True)\n",
    "    projects.drop('country',axis=1,inplace=True)\n",
    "\n",
    "    return projects\n"
   ]
  },
  {
   "cell_type": "code",
   "execution_count": 3,
   "metadata": {
    "collapsed": true
   },
   "outputs": [],
   "source": [
    "def getAccuracy(testSet, predictions):\n",
    "    correct = 0\n",
    "    i = 0\n",
    "    for x in testSet.collect():\n",
    "        if x[-1] == int(predictions[i]):\n",
    "            correct = correct + 1\n",
    "        i = i + 1\n",
    "    return (correct/float(len(predictions))) * 100.0"
   ]
  },
  {
   "cell_type": "code",
   "execution_count": 5,
   "metadata": {
    "collapsed": true
   },
   "outputs": [],
   "source": [
    "def euclideanDistance(instance1, instance2, length):\n",
    "    distance = 0\n",
    "    for x in range(length):\n",
    "        distance += pow((instance1[x] - instance2[x]), 2)\n",
    "    return math.sqrt(distance)"
   ]
  },
  {
   "cell_type": "code",
   "execution_count": 15,
   "metadata": {
    "collapsed": true
   },
   "outputs": [],
   "source": [
    "import operator \n",
    "def getNeighbors(trainingSet, testInstance, k):\n",
    "    distances = []\n",
    "    length = len(testInstance)-1\n",
    "    for x in trainingSet.collect():\n",
    "        dist = euclideanDistance(testInstance,x, length)\n",
    "        distances.append((x, dist))\n",
    "    distances.sort(key=operator.itemgetter(1))\n",
    "    neighbors = []\n",
    "    for x in range(k):\n",
    "        neighbors.append(distances[x][0])\n",
    "    return neighbors"
   ]
  },
  {
   "cell_type": "code",
   "execution_count": 18,
   "metadata": {
    "collapsed": true
   },
   "outputs": [],
   "source": [
    "import operator\n",
    "def getResponse(neighbors):\n",
    "    classVotes = {}\n",
    "    for x in range(len(neighbors)):\n",
    "        response = neighbors[x][-1]\n",
    "        if response in classVotes:\n",
    "            classVotes[response] += 1\n",
    "        else:\n",
    "            classVotes[response] = 1\n",
    "    sortedVotes = sorted(classVotes.items(), key=operator.itemgetter(1), reverse=True)\n",
    "    return sortedVotes[0][0]"
   ]
  },
  {
   "cell_type": "code",
   "execution_count": null,
   "metadata": {
    "collapsed": true
   },
   "outputs": [],
   "source": [
    "sqlContext = SQLContext(sc)\n",
    "data = pd.read_csv('ks-projects-201801.csv')\n",
    "dataset = process_data(data)\n",
    "dataset = dataset[0:100]\n",
    "print(dataset.shape)\n",
    "dataRdd = sqlContext.createDataFrame(dataset)\n",
    "trainRdd, testRdd = dataRdd.randomSplit([0.8, 0.2])"
   ]
  },
  {
   "cell_type": "code",
   "execution_count": 20,
   "metadata": {},
   "outputs": [
    {
     "name": "stdout",
     "output_type": "stream",
     "text": [
      "90.0\n"
     ]
    }
   ],
   "source": [
    "predictions=list()\n",
    "for test in testRdd.collect():\n",
    "    output = getNeighbors(trainRdd,test,3)\n",
    "    predictions.append(getResponse(output))\n",
    "accuracy = getAccuracy(testRdd, predictions)\n",
    "print(accuracy)"
   ]
  }
 ],
 "metadata": {
  "kernelspec": {
   "display_name": "Python 3",
   "language": "python",
   "name": "python3"
  },
  "language_info": {
   "codemirror_mode": {
    "name": "ipython",
    "version": 3
   },
   "file_extension": ".py",
   "mimetype": "text/x-python",
   "name": "python",
   "nbconvert_exporter": "python",
   "pygments_lexer": "ipython3",
   "version": "3.6.3"
  }
 },
 "nbformat": 4,
 "nbformat_minor": 2
}
